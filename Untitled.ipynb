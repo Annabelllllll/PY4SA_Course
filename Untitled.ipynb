{
 "cells": [
  {
   "cell_type": "code",
   "execution_count": 4,
   "id": "8e3d8b14-21cf-4bc6-af63-8d9995913144",
   "metadata": {},
   "outputs": [
    {
     "name": "stdout",
     "output_type": "stream",
     "text": [
      "2\n"
     ]
    }
   ],
   "source": [
    "x = 2\n",
    "print (x)"
   ]
  },
  {
   "cell_type": "code",
   "execution_count": 5,
   "id": "9a687083-6671-4c89-96f9-d2c239936392",
   "metadata": {},
   "outputs": [
    {
     "name": "stdout",
     "output_type": "stream",
     "text": [
      "5\n"
     ]
    }
   ],
   "source": [
    "x += 3\n",
    "print (x)"
   ]
  },
  {
   "cell_type": "code",
   "execution_count": 6,
   "id": "9234d76b-fc1d-4305-a007-3c33461c68ab",
   "metadata": {},
   "outputs": [
    {
     "name": "stdout",
     "output_type": "stream",
     "text": [
      "2\n",
      "5\n",
      "2\n",
      "-1\n",
      "2\n",
      "6\n",
      "2\n",
      "0.6666666666666666\n",
      "2\n",
      "8\n"
     ]
    }
   ],
   "source": [
    "x = 2\n",
    "print(x)\n",
    "x += 3\n",
    "print(x)\n",
    "\n",
    "x = 2\n",
    "print(x)\n",
    "x -= 3\n",
    "print(x)\n",
    "\n",
    "x = 2\n",
    "print(x)\n",
    "x *= 3\n",
    "print(x)\n",
    "\n",
    "x = 2\n",
    "print(x)\n",
    "x /= 3\n",
    "print(x)\n",
    "\n",
    "x = 2\n",
    "print(x)\n",
    "x **= 3\n",
    "print(x)"
   ]
  }
 ],
 "metadata": {
  "kernelspec": {
   "display_name": "Python 3 (ipykernel)",
   "language": "python",
   "name": "python3"
  },
  "language_info": {
   "codemirror_mode": {
    "name": "ipython",
    "version": 3
   },
   "file_extension": ".py",
   "mimetype": "text/x-python",
   "name": "python",
   "nbconvert_exporter": "python",
   "pygments_lexer": "ipython3",
   "version": "3.10.9"
  }
 },
 "nbformat": 4,
 "nbformat_minor": 5
}
