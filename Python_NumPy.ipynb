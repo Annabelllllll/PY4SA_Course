{
 "cells": [
  {
   "attachments": {},
   "cell_type": "markdown",
   "metadata": {},
   "source": [
    "# Python for Spatial Analysis\n",
    "## Second part of the module of GG3209 Spatial Analysis with GIS.\n",
    "### Notebook to learn and practice the NumPy\n",
    "\n",
    "---\n",
    "Dr Fernando Benitez -  University of St Andrews - School of Geography and Sustainable Development - First Iteration 2023 v.1.0 "
   ]
  },
  {
   "attachments": {},
   "cell_type": "markdown",
   "metadata": {},
   "source": [
    "### Introduction \n",
    "\n",
    "During the previous weeks we practice and learn the python basics skills **functions**, **flow control**, **loops**, **modules**, and **reading/writing** data from disk. This notebook aims to work with the library NumPy, the core foundation of ost of the geospatial libraries, so is important we understand how does it work.\n",
    "\n",
    "**NumPy** allows for the efficient analysis and processing of data arrays with varying sizes, shapes, and number of dimensions while **Pandas** allows for reading in and working with data tables. In this section, we will focus on NumPy. \n",
    "\n",
    "After working through this module you will be able to:\n",
    "\n",
    "### Content\n",
    "\n",
    "1. Describe and use NumPy data types.  \n",
    "2. Describe the data type, size, shape, and number of dimensions in an array. \n",
    "3. create, reshape, and slice **NumPy arrays**.\n",
    "4. perform numeric and comparison operations on arrays.\n",
    "\n",
    "Please go through every cell, reading carefully all descriptions and run the code cell to see the examples."
   ]
  },
  {
   "cell_type": "markdown",
   "metadata": {},
   "source": [
    "# NumPy"
   ]
  },
  {
   "cell_type": "markdown",
   "metadata": {},
   "source": [
    "The **NumPy** and **Pandas** libraries are central to data science in Python. NumPy allows for the efficient analysis and processing of data arrays with varying sizes, shapes, and number of dimensions while Pandas allows for reading in and working with data tables. In this section, we will focus on NumPy. \n",
    "\n",
    "After working through this module you will be able to:\n",
    "\n",
    "1. describe and use NumPy data types.  \n",
    "2. describe the data type, size, shape, and number of dimensions in an array. \n",
    "3. create, reshape, and slice **NumPy arrays**.\n",
    "4. perform numeric and comparison operations on arrays."
   ]
  },
  {
   "cell_type": "markdown",
   "metadata": {},
   "source": [
    "## Creating NumPy Arrays"
   ]
  },
  {
   "attachments": {},
   "cell_type": "markdown",
   "metadata": {},
   "source": [
    "The **NumPy** library allows for creating and working with **arrays**. It is very fast and memory efficient. As mentioned, arrays are similar to **lists** in that they store a series of values or elements. However, arrays can be expanded to include many dimensions.\n",
    "\n",
    "For example, an image could be represented as an array with 3 dimensions: height, width, and channels. In short, array-based calculations and manipulations are essential to data science, so **NumPy** is an important library to learn if you work in the Python environment. \n",
    "\n",
    "The complete documentation for NumPy can be found [here](https://numpy.org/).\n",
    "\n",
    "Before you can use NumPy, you must make sure that it is installed into your Anaconda environment, our py4sa environment has integrated this library. Once NumPy is installed, you will need to import it in order to use it in your code. It is common to assign NumPy an alias name of \"np\" to simplify your code.  "
   ]
  },
  {
   "cell_type": "code",
   "execution_count": 1,
   "metadata": {},
   "outputs": [],
   "source": [
    "import numpy as np"
   ]
  },
  {
   "cell_type": "markdown",
   "metadata": {},
   "source": [
    "**Lists** can be converted to NumPy arrays using the *array()* method. Once the list object is converted to an array the type is defined as *numpy.ndarray*, which indicates that it is a NumPy array specifically. Since this array only has one dimension, it is specifically called a **vector**."
   ]
  },
  {
   "cell_type": "code",
   "execution_count": 2,
   "metadata": {},
   "outputs": [
    {
     "name": "stdout",
     "output_type": "stream",
     "text": [
      "<class 'list'>\n",
      "<class 'numpy.ndarray'>\n",
      "[3 6 7 8 9]\n"
     ]
    }
   ],
   "source": [
    "lst1 = [3, 6, 7, 8, 9]\n",
    "arr1 = np.array(lst1)\n",
    "print(type(lst1))\n",
    "print(type(arr1))\n",
    "print(arr1)"
   ]
  },
  {
   "attachments": {},
   "cell_type": "markdown",
   "metadata": {},
   "source": [
    "A two dimensional array is known as a **matrix**. In the example below, I am generating a matrix array from a list of lists. "
   ]
  },
  {
   "cell_type": "code",
   "execution_count": 3,
   "metadata": {},
   "outputs": [
    {
     "name": "stdout",
     "output_type": "stream",
     "text": [
      "[[3 6 7 8 9]\n",
      " [3 6 7 8 9]\n",
      " [3 6 7 8 9]]\n"
     ]
    }
   ],
   "source": [
    "lst2 = [[3, 6, 7, 8, 9], [3, 6, 7, 8, 9], [3, 6, 7, 8, 9]]\n",
    "arr2 = np.array(lst2)\n",
    "print(arr2)"
   ]
  },
  {
   "attachments": {},
   "cell_type": "markdown",
   "metadata": {},
   "source": [
    "Again, one of the powerful advantages of NumPy arrays is the ability to store data in arrays with many dimensions. In the example below, you are creating a three dimensional array from a list of lists of lists. \n",
    "\n",
    "This would be similar to an image with dimensions image height, image width, and image channels (for example, red, green, and blue).\n",
    "\n",
    "A four dimensional array could represent a time series (height, width, channels, and time) or a video containing multiple frames (frame height, frame width, channels, and frame number). "
   ]
  },
  {
   "cell_type": "code",
   "execution_count": 4,
   "metadata": {},
   "outputs": [
    {
     "name": "stdout",
     "output_type": "stream",
     "text": [
      "[[[3 6 7 8 9]\n",
      "  [3 6 7 8 9]\n",
      "  [3 6 7 8 9]]\n",
      "\n",
      " [[3 6 7 8 9]\n",
      "  [3 6 7 8 9]\n",
      "  [3 6 7 8 9]]\n",
      "\n",
      " [[3 6 7 8 9]\n",
      "  [3 6 7 8 9]\n",
      "  [3 6 7 8 9]]]\n"
     ]
    }
   ],
   "source": [
    "lst3 = [[[3, 6, 7, 8, 9], [3, 6, 7, 8, 9], [3, 6, 7, 8, 9]], \n",
    "         [[3, 6, 7, 8, 9], [3, 6, 7, 8, 9], [3, 6, 7, 8, 9]], \n",
    "         [[3, 6, 7, 8, 9], [3, 6, 7, 8, 9], [3, 6, 7, 8, 9]]]\n",
    "arr3 = np.array(lst3)\n",
    "print(arr3)"
   ]
  },
  {
   "attachments": {},
   "cell_type": "markdown",
   "metadata": {},
   "source": [
    "Other **methods** for generating arrays. \n",
    "\n",
    "1. the **tile()** method created repetitive arrays, which accepts:\n",
    "\n",
    "    * *A*—A number, list, or array to repeat\n",
    "\n",
    "    * *reps*—How many times to repeat it?\n",
    "\n",
    "2. **.repeat()** creating repetitive arrays. Unlike np.tile, the np.repeat function repeats each element consecutively and not the entire array (or list).\n",
    "\n",
    "\n",
    "1. The **arange()** method returns an array of evenly spaced values and accepts start, stop, step, and data type parameters. In the example, you have created an array of evenly spaced values from 0 to 100 with a step size of 5. Specifically define the data type as integer, but NumPy can infer a data type if it is not provided. \n",
    "\n",
    "2. The **linspace()** method is similar to *arange()*; however, a number of samples is specified as opposed to a step size. In the example, since 5 samples are requested, 5 evenly spaced values between 0 and 100 are returned. \n",
    "\n",
    "Another useful methods:\n",
    "\n",
    "3. The **ones()** method is used to return an array of 1s. In the example, I have generated a three dimensional array where the first dimension has a length of 3, the second a length of 4, and the third a length of 4. The shape and dimensions of the array are specified using a tuple. \n",
    "\n",
    "Similar to *ones()*, *zeros()* generates an array of zeros.\n",
    "\n",
    "4. It is also possible to generate random values between 0 and 1 (**random.rand()**) and a specified number of random integer values between two values (**random.randint()**). "
   ]
  },
  {
   "cell_type": "code",
   "execution_count": 8,
   "metadata": {},
   "outputs": [
    {
     "name": "stdout",
     "output_type": "stream",
     "text": [
      "[12 12 12 12 12 12 12]\n",
      "[1 1 1 2 2 2]\n",
      "[ 0  5 10 15 20 25 30 35 40 45 50 55 60 65 70 75 80 85 90 95]\n",
      "[  0  25  50  75 100]\n",
      "[[[1. 1. 1. 1.]\n",
      "  [1. 1. 1. 1.]\n",
      "  [1. 1. 1. 1.]\n",
      "  [1. 1. 1. 1.]]\n",
      "\n",
      " [[1. 1. 1. 1.]\n",
      "  [1. 1. 1. 1.]\n",
      "  [1. 1. 1. 1.]\n",
      "  [1. 1. 1. 1.]]\n",
      "\n",
      " [[1. 1. 1. 1.]\n",
      "  [1. 1. 1. 1.]\n",
      "  [1. 1. 1. 1.]\n",
      "  [1. 1. 1. 1.]]]\n",
      "[[[0. 0.]\n",
      "  [0. 0.]\n",
      "  [0. 0.]\n",
      "  [0. 0.]]\n",
      "\n",
      " [[0. 0.]\n",
      "  [0. 0.]\n",
      "  [0. 0.]\n",
      "  [0. 0.]]\n",
      "\n",
      " [[0. 0.]\n",
      "  [0. 0.]\n",
      "  [0. 0.]\n",
      "  [0. 0.]]]\n",
      "[[[0.12961978 0.11343463 0.58057785 0.22769547 0.3538964 ]\n",
      "  [0.99921414 0.59502671 0.91024392 0.78741941 0.78556281]\n",
      "  [0.23861215 0.5209964  0.58611553 0.01534425 0.96597382]\n",
      "  [0.86782012 0.98303237 0.91309544 0.81818375 0.59728427]]\n",
      "\n",
      " [[0.31029454 0.12242851 0.55742922 0.28343749 0.67562324]\n",
      "  [0.51296815 0.78824068 0.59912716 0.94269294 0.60353753]\n",
      "  [0.50772446 0.31840221 0.9292301  0.20622256 0.51679769]\n",
      "  [0.89389557 0.92646305 0.00709793 0.46277428 0.69279426]]\n",
      "\n",
      " [[0.00715786 0.95290678 0.1713094  0.81941256 0.98835978]\n",
      "  [0.90680088 0.45605192 0.4341025  0.57439509 0.65613862]\n",
      "  [0.34783077 0.95456259 0.87749134 0.95423674 0.45205711]\n",
      "  [0.77705032 0.70156822 0.39877487 0.74503016 0.88019545]]]\n",
      "[128 144 118  24 140 170  50]\n"
     ]
    }
   ],
   "source": [
    "arr2 = np.tile(12, 7)\n",
    "print(arr2)\n",
    "\n",
    "arr3 = np.repeat([1, 2], 3)\n",
    "print(arr3)\n",
    "\n",
    "arr4 = np.arange(0, 100, 5, dtype=\"int\")\n",
    "print(arr4)\n",
    "\n",
    "arr5 = np.linspace(0, 100, 5, dtype=\"int\")\n",
    "print(arr5)\n",
    "\n",
    "arr6 = np.ones((3, 4, 4))\n",
    "print(arr6)\n",
    "\n",
    "arr7 = np.zeros((3, 4, 2))\n",
    "print(arr7)\n",
    "\n",
    "arr8 = np.random.rand(3, 4, 5)\n",
    "print(arr8)\n",
    "\n",
    "arr9 = np.random.randint(1, 200, 7)\n",
    "print(arr9)"
   ]
  },
  {
   "cell_type": "markdown",
   "metadata": {},
   "source": [
    "## NumPy Data Types"
   ]
  },
  {
   "cell_type": "markdown",
   "metadata": {},
   "source": [
    "NumPy provides additional and more specific data types in comparison to base Python. Here, I provide a brief explanation of commonly used data types. \n",
    "\n",
    "* *bool_*: Boolean *True* or *False*\n",
    "* *int8*: 8-bit signed integer (-128 to 127)\n",
    "* *int16*: 16-bit signed integer (-32,768 to 32,767)\n",
    "* *int32*: 32-bit signed integer (-2,147,483,648 to 2,147,483,647)\n",
    "* *int64*: 64-bit signed integer (-9,223,372,036,854,775,808 to 9,223,372,036,854,775,807)\n",
    "* *uint8*: 8-bit unsigned integer (0 to 255)\n",
    "* *uint16*: 16-bit unsigned integer (0 to 65,535)\n",
    "* *uint32*: 32-bit unsigned integer (0 to 4,294,967,295)\n",
    "* *uint64*: 64-bit unsigned integer (0 to 18,446,744,073,709,551,615)\n",
    "* *float16*: half precision float\n",
    "* *float32*: single precision float\n",
    "* *float64*: double precision float\n",
    "\n",
    "**Signed integers** can differentiate positive and negative values while **unsigned integers** cannot. **Float** data can store decimal values while **integer** data cannot. There are also data types for complex numbers, which we will not discuss here. \n",
    "\n",
    "Below I have demonstrated how to define the data type with the *dtype* parameter. In all cases I am using *.ones()* to create an array with three elements. For both *int8* and *int16*, 1 as an integer value is returned. When the data are defined as *float16*, 1 as a float value is returned (1.). Lastly, when the type is set to *bool_* Boolean *True* is returned since 1 indicates *True* and 0 indicates *False*. Note that the data type will impact the amount of memory needed. For example an *int8* will require less memory than an *int16*. I generally try to use the data type that can represent the data with the least amount of memory unless a specific data type is needed in an analysis. "
   ]
  },
  {
   "cell_type": "code",
   "execution_count": 6,
   "metadata": {},
   "outputs": [
    {
     "name": "stdout",
     "output_type": "stream",
     "text": [
      "[1 1 1]\n",
      "int8\n",
      "[1 1 1]\n",
      "int16\n",
      "[1. 1. 1.]\n",
      "float16\n",
      "[ True  True  True]\n",
      "bool\n"
     ]
    }
   ],
   "source": [
    "arr1 = np.ones((3), dtype=\"int8\")\n",
    "print(arr1)\n",
    "print(arr1.dtype)\n",
    "\n",
    "arr1 = np.ones((3), dtype=\"int16\")\n",
    "print(arr1)\n",
    "print(arr1.dtype)\n",
    "\n",
    "arr1 = np.ones((3), dtype=\"float16\")\n",
    "print(arr1)\n",
    "print(arr1.dtype)\n",
    "\n",
    "arr1 = np.ones((3), dtype=\"bool_\")\n",
    "print(arr1)\n",
    "print(arr1.dtype)"
   ]
  },
  {
   "cell_type": "markdown",
   "metadata": {},
   "source": [
    "## Understanding and Manipulating Array Shape and Dimensions"
   ]
  },
  {
   "cell_type": "markdown",
   "metadata": {},
   "source": [
    "Let's spend some time discussing the dimensions and shape of an array. The **shape** of an array relates to the length of each dimension. The *len()* function will return the length of the first dimension (in this case 3). To obtain a tuple of the lengths for all dimensions, you must use the *shape* property. So, the array generated has three dimensions with lengths of 3, 4, and 4, respectively. The number of dimensions is returned with the *ndim* property. The *size* property returns the number of features in the array. There are 48 features in the example array: 3 X 4 X 4 = 48. The *dtype* property provides the data type. "
   ]
  },
  {
   "cell_type": "code",
   "execution_count": 7,
   "metadata": {},
   "outputs": [
    {
     "name": "stdout",
     "output_type": "stream",
     "text": [
      "Length of first dimension: 3\n",
      "Shape of array: (3, 4, 4)\n",
      "Number of dimensions: 3\n",
      "Size of array: 48\n",
      "Data type of array: float64\n"
     ]
    }
   ],
   "source": [
    "arr6 = np.ones((3, 4, 4))\n",
    "\n",
    "print(\"Length of first dimension: \" + str(len(arr6)))\n",
    "print(\"Shape of array: \" + str(arr6.shape))\n",
    "print(\"Number of dimensions: \" + str(arr6.ndim))\n",
    "print(\"Size of array: \" + str(arr6.size))\n",
    "print(\"Data type of array: \" + str(arr6.dtype))"
   ]
  },
  {
   "cell_type": "markdown",
   "metadata": {},
   "source": [
    "NumPy has a built-in methods for changing the shape of an array, *.reshape()*. Note that the number of features or size of the array must perfectly fill the new shape. In the first example, I am maintaining the number of dimensions but changing the shape or length of each dimension. In the second two examples, I am converting the three-dimensional array to two-dimensional arrays. Lastly, I convert the array to a one-dimensional array, or vector, with a length of 48."
   ]
  },
  {
   "cell_type": "code",
   "execution_count": 8,
   "metadata": {},
   "outputs": [
    {
     "name": "stdout",
     "output_type": "stream",
     "text": [
      "[[[1. 1. 1.]\n",
      "  [1. 1. 1.]\n",
      "  [1. 1. 1.]\n",
      "  [1. 1. 1.]]\n",
      "\n",
      " [[1. 1. 1.]\n",
      "  [1. 1. 1.]\n",
      "  [1. 1. 1.]\n",
      "  [1. 1. 1.]]\n",
      "\n",
      " [[1. 1. 1.]\n",
      "  [1. 1. 1.]\n",
      "  [1. 1. 1.]\n",
      "  [1. 1. 1.]]\n",
      "\n",
      " [[1. 1. 1.]\n",
      "  [1. 1. 1.]\n",
      "  [1. 1. 1.]\n",
      "  [1. 1. 1.]]]\n",
      "[[1. 1. 1. 1. 1. 1. 1. 1. 1. 1. 1. 1.]\n",
      " [1. 1. 1. 1. 1. 1. 1. 1. 1. 1. 1. 1.]\n",
      " [1. 1. 1. 1. 1. 1. 1. 1. 1. 1. 1. 1.]\n",
      " [1. 1. 1. 1. 1. 1. 1. 1. 1. 1. 1. 1.]]\n",
      "[[1. 1. 1. 1.]\n",
      " [1. 1. 1. 1.]\n",
      " [1. 1. 1. 1.]\n",
      " [1. 1. 1. 1.]\n",
      " [1. 1. 1. 1.]\n",
      " [1. 1. 1. 1.]\n",
      " [1. 1. 1. 1.]\n",
      " [1. 1. 1. 1.]\n",
      " [1. 1. 1. 1.]\n",
      " [1. 1. 1. 1.]\n",
      " [1. 1. 1. 1.]\n",
      " [1. 1. 1. 1.]]\n",
      "[1. 1. 1. 1. 1. 1. 1. 1. 1. 1. 1. 1. 1. 1. 1. 1. 1. 1. 1. 1. 1. 1. 1. 1.\n",
      " 1. 1. 1. 1. 1. 1. 1. 1. 1. 1. 1. 1. 1. 1. 1. 1. 1. 1. 1. 1. 1. 1. 1. 1.]\n"
     ]
    }
   ],
   "source": [
    "arr6b = arr6.reshape(4, 4, 3)\n",
    "arr6c = arr6.reshape(4, 12)\n",
    "arr6d = arr6.reshape(12, 4)\n",
    "arr6e = arr6.reshape(48)\n",
    "print(arr6b)\n",
    "print(arr6c)\n",
    "print(arr6d)\n",
    "print(arr6e)"
   ]
  },
  {
   "cell_type": "markdown",
   "metadata": {},
   "source": [
    "When reshaping, it is possible to have NumPy determine the appropriate size of a single dimension to fill an array with the available elements. This is accomplished using -1 in the array dimension location when applying the *.reshape()* method. "
   ]
  },
  {
   "cell_type": "code",
   "execution_count": 10,
   "metadata": {},
   "outputs": [
    {
     "name": "stdout",
     "output_type": "stream",
     "text": [
      "(1000,)\n",
      "(10, 10, 10)\n",
      "(10, 10, 10)\n",
      "(10, 10, 10)\n"
     ]
    }
   ],
   "source": [
    "arr10 = np.random.randint(1, 1200, 1000)\n",
    "arr10b = arr10.reshape(-1, 10, 10)\n",
    "arr10c = arr10.reshape(10, -1, 10)\n",
    "arr10d = arr10.reshape(10, 10, -1)\n",
    "print(arr10.shape)\n",
    "print(arr10b.shape)\n",
    "print(arr10c.shape)\n",
    "print(arr10d.shape)"
   ]
  },
  {
   "cell_type": "markdown",
   "metadata": {},
   "source": [
    "## NumPy Array Indexing"
   ]
  },
  {
   "attachments": {
    "image.png": {
     "image/png": "[encoded data removed]"
    }
   },
   "cell_type": "markdown",
   "metadata": {},
   "source": [
    "Similar to lists, NumPy arrays are indexed. \n",
    "\n",
    "So, **values from the array can be extracted or referenced using their associated index.**\n",
    "\n",
    "Since arrays often have multiple dimensions, indexes must also extend into multiple dimensions. \n",
    "\n",
    "See the **comments** below for general array indexing rules.\n",
    "\n",
    "Remember that indexing starts at **0**, the first index provided is included, and the last index provided is not included. \n",
    "\n",
    "Extracting portions of an array is known as **slicing**.4\n",
    "\n",
    "![image.png](attachment:image.png)"
   ]
  },
  {
   "cell_type": "code",
   "execution_count": 11,
   "metadata": {},
   "outputs": [
    {
     "name": "stdout",
     "output_type": "stream",
     "text": [
      "Original array\n",
      "[[[ 0  1  2  3  4]\n",
      "  [ 5  6  7  8  9]\n",
      "  [10 11 12 13 14]\n",
      "  [15 16 17 18 19]\n",
      "  [20 21 22 23 24]]\n",
      "\n",
      " [[25 26 27 28 29]\n",
      "  [30 31 32 33 34]\n",
      "  [35 36 37 38 39]\n",
      "  [40 41 42 43 44]\n",
      "  [45 46 47 48 50]]]\n",
      "All values in first index of first dimension\n",
      "[[ 0  1  2  3  4]\n",
      " [ 5  6  7  8  9]\n",
      " [10 11 12 13 14]\n",
      " [15 16 17 18 19]\n",
      " [20 21 22 23 24]]\n",
      "All values in second index of first dimension\n",
      "[[25 26 27 28 29]\n",
      " [30 31 32 33 34]\n",
      " [35 36 37 38 39]\n",
      " [40 41 42 43 44]\n",
      " [45 46 47 48 50]]\n",
      "All values in first index of first dimension and first index of second dimension\n",
      "[0 1 2 3 4]\n",
      "A single value specified with three indexes, one for reach dimension\n",
      "43\n",
      "Incorporating ranges\n",
      "[[25 26]\n",
      " [30 31]]\n",
      "Using colons\n",
      "[[[ 0  1]\n",
      "  [ 5  6]]\n",
      "\n",
      " [[25 26]\n",
      "  [30 31]]]\n",
      "[[[10 11]\n",
      "  [15 16]\n",
      "  [20 21]]\n",
      "\n",
      " [[35 36]\n",
      "  [40 41]\n",
      "  [45 46]]]\n"
     ]
    }
   ],
   "source": [
    "arr11 = np.linspace(0, 50, 50, dtype=\"int\")\n",
    "arr12 = arr11.reshape(2,5,5)\n",
    "print(\"Original array\")\n",
    "print(arr12)\n",
    "print(\"All values in first index of first dimension\")\n",
    "print(arr12[0]) #This will extract just the values from the first index in the first dimension\n",
    "print(\"All values in second index of first dimension\")\n",
    "print(arr12[1]) #This will extract just the values from the second index in the first dimension\n",
    "print(\"All values in first index of first dimension and first index of second dimension\")\n",
    "print(arr12[0][0]) #This will extract all values occurring in the first index of both the first and second dimensions\n",
    "print(\"A single value specified with three indexes, one for reach dimension\")\n",
    "print(arr12[1, 3, 3]) #This will extract a specific value based on an index in all three dimensions\n",
    "print(\"Incorporating ranges\")\n",
    "print(arr12[1, 0:2, 0:2]) #All values in second index of first dimension that are also include in the first to second index of the second and third dimensions\n",
    "print(\"Using colons\")\n",
    "print(arr12[:, 0:2, 0:2]) #Only a colon means select all values in a dimension\n",
    "print(arr12[:,2:,0:2]) #Can also use colons to select all values before or after an index"
   ]
  },
  {
   "cell_type": "markdown",
   "metadata": {},
   "source": [
    "Once values have been selected using index notation they can be changed. In the example below I have converted all values in the first index of the first dimension and the first index of the second dimension to 0. "
   ]
  },
  {
   "cell_type": "code",
   "execution_count": 12,
   "metadata": {},
   "outputs": [
    {
     "name": "stdout",
     "output_type": "stream",
     "text": [
      "[[[ 0  0  0  0  0]\n",
      "  [ 5  6  7  8  9]\n",
      "  [10 11 12 13 14]\n",
      "  [15 16 17 18 19]\n",
      "  [20 21 22 23 24]]\n",
      "\n",
      " [[25 26 27 28 29]\n",
      "  [30 31 32 33 34]\n",
      "  [35 36 37 38 39]\n",
      "  [40 41 42 43 44]\n",
      "  [45 46 47 48 50]]]\n"
     ]
    }
   ],
   "source": [
    "arr12[0][0] = 0\n",
    "print(arr12)"
   ]
  },
  {
   "cell_type": "markdown",
   "metadata": {},
   "source": [
    "## Boolean Arrays"
   ]
  },
  {
   "cell_type": "markdown",
   "metadata": {},
   "source": [
    "It is also possible to create arrays of Boolean values as demonstrated below. "
   ]
  },
  {
   "cell_type": "code",
   "execution_count": 13,
   "metadata": {},
   "outputs": [
    {
     "name": "stdout",
     "output_type": "stream",
     "text": [
      "[[ True False  True]\n",
      " [False  True False]\n",
      " [ True False False]]\n"
     ]
    }
   ],
   "source": [
    "arr13 = np.array([True, False, True, False, True, False, True, False, False])\n",
    "arr13b = arr13.reshape(3, 3)\n",
    "print(arr13b)"
   ]
  },
  {
   "cell_type": "markdown",
   "metadata": {},
   "source": [
    "**Comparison Operators** can be used to compare each value in an array to a value and return the Boolean result to the associated position in a new array."
   ]
  },
  {
   "cell_type": "code",
   "execution_count": 14,
   "metadata": {},
   "outputs": [
    {
     "name": "stdout",
     "output_type": "stream",
     "text": [
      "[[ 167  986   83  247  886  993  237  326  931  127]\n",
      " [ 902  401  823  297  111  948  330  888 1128  751]\n",
      " [ 283  966  629 1182   53  126  189  316  810   17]\n",
      " [ 997  403  438  121  205  613  317  836   18  837]\n",
      " [ 410  177  651  432 1069 1176  909  396  665 1098]\n",
      " [  30  919  446  317  733   83  407  429  430  192]\n",
      " [ 557  239  100  234  146  620  507  398  942  261]\n",
      " [ 779  250  712  172  196  685  455  313  198 1130]\n",
      " [ 235  274  782  438  239  222  288 1173 1066  100]\n",
      " [1004 1147  639  579  294   44   27  735  646  573]]\n",
      "[[ True  True False  True  True  True  True  True  True False]\n",
      " [ True  True  True  True False  True  True  True  True  True]\n",
      " [ True  True  True  True False False  True  True  True False]\n",
      " [ True  True  True False  True  True  True  True False  True]\n",
      " [ True  True  True  True  True  True  True  True  True  True]\n",
      " [False  True  True  True  True False  True  True  True  True]\n",
      " [ True  True False  True False  True  True  True  True  True]\n",
      " [ True  True  True  True  True  True  True  True  True  True]\n",
      " [ True  True  True  True  True  True  True  True  True False]\n",
      " [ True  True  True  True  True False False  True  True  True]]\n"
     ]
    }
   ],
   "source": [
    "arr10 = np.random.randint(1, 1200, 100)\n",
    "arr10b = arr10.reshape(10, 10)\n",
    "print(arr10b)\n",
    "arr10bool = arr10b > 150\n",
    "print(arr10bool)"
   ]
  },
  {
   "cell_type": "markdown",
   "metadata": {},
   "source": [
    "### Array Arithmetic and Operations"
   ]
  },
  {
   "cell_type": "markdown",
   "metadata": {},
   "source": [
    "It is generally easy to perform mathematical operations on arrays as demonstrated below. In all cases, the same operation is applied to all elements in the array. "
   ]
  },
  {
   "cell_type": "code",
   "execution_count": 18,
   "metadata": {},
   "outputs": [
    {
     "name": "stdout",
     "output_type": "stream",
     "text": [
      "[[ 371  477  792  841  137]\n",
      " [ 457 1137  986  766  172]\n",
      " [ 561  652  389  789  850]\n",
      " [ 886  971  322  979 1148]\n",
      " [ 274   54  683   13  574]]\n",
      "[[ 392  498  813  862  158]\n",
      " [ 478 1158 1007  787  193]\n",
      " [ 582  673  410  810  871]\n",
      " [ 907  992  343 1000 1169]\n",
      " [ 295   75  704   34  595]]\n",
      "[[ 319  425  740  789   85]\n",
      " [ 405 1085  934  714  120]\n",
      " [ 509  600  337  737  798]\n",
      " [ 834  919  270  927 1096]\n",
      " [ 222    2  631  -39  522]]\n",
      "[[ 742  954 1584 1682  274]\n",
      " [ 914 2274 1972 1532  344]\n",
      " [1122 1304  778 1578 1700]\n",
      " [1772 1942  644 1958 2296]\n",
      " [ 548  108 1366   26 1148]]\n",
      "[[123.66666667 159.         264.         280.33333333  45.66666667]\n",
      " [152.33333333 379.         328.66666667 255.33333333  57.33333333]\n",
      " [187.         217.33333333 129.66666667 263.         283.33333333]\n",
      " [295.33333333 323.66666667 107.33333333 326.33333333 382.66666667]\n",
      " [ 91.33333333  18.         227.66666667   4.33333333 191.33333333]]\n",
      "[[ 137641  227529  627264  707281   18769]\n",
      " [ 208849 1292769  972196  586756   29584]\n",
      " [ 314721  425104  151321  622521  722500]\n",
      " [ 784996  942841  103684  958441 1317904]\n",
      " [  75076    2916  466489     169  329476]]\n"
     ]
    }
   ],
   "source": [
    "arr14 = np.random.randint(1, 1200, 25)\n",
    "arr14b = arr14.reshape(5, 5)\n",
    "print(arr14b)\n",
    "print(arr14b+21)\n",
    "print(arr14b-52)\n",
    "print(arr14b*2)\n",
    "print(arr14b/3)\n",
    "print(arr14b**2)"
   ]
  },
  {
   "cell_type": "markdown",
   "metadata": {},
   "source": [
    "It is also possible to perform mathematical operations on sets of arrays as long as they have the same shape. In such cases, elements are matched based on having the same position within the array. "
   ]
  },
  {
   "cell_type": "code",
   "execution_count": 19,
   "metadata": {},
   "outputs": [
    {
     "name": "stdout",
     "output_type": "stream",
     "text": [
      "[[ 572  247  970  844  997]\n",
      " [ 700  996  455  176  399]\n",
      " [ 750  328  799  665  795]\n",
      " [ 305  975  397  878  556]\n",
      " [ 916  982 1106  157  391]]\n",
      "[[1144  494 1940 1688 1994]\n",
      " [1400 1992  910  352  798]\n",
      " [1500  656 1598 1330 1590]\n",
      " [ 610 1950  794 1756 1112]\n",
      " [1832 1964 2212  314  782]]\n",
      "[[0 0 0 0 0]\n",
      " [0 0 0 0 0]\n",
      " [0 0 0 0 0]\n",
      " [0 0 0 0 0]\n",
      " [0 0 0 0 0]]\n"
     ]
    }
   ],
   "source": [
    "arr14 = np.random.randint(1, 1200, 25)\n",
    "arr14b = arr14.reshape(5, 5)\n",
    "print(arr14b)\n",
    "print(arr14b+arr14b)\n",
    "print(arr14b-arr14b)"
   ]
  },
  {
   "attachments": {},
   "cell_type": "markdown",
   "metadata": {},
   "source": [
    "To summarize the results from above it is possible to:\n",
    "\n",
    "1. perform mathematical operations between an array with any shape and a scalar (i.e., single value)\n",
    "2. perform mathematical operations between arrays that have the same shape "
   ]
  },
  {
   "attachments": {},
   "cell_type": "markdown",
   "metadata": {},
   "source": [
    "There are some other cases in which it is possible to perform mathematical operations using a technique known as **broadcasting**.\n",
    "\n",
    "The following rules summarize when broadcasting can be used and how.\n",
    "\n",
    "1. If two arrays have a different number of dimensions, the shape of the array with fewer dimensions is padded with ones on its leading side (for example, to multiply an array of shape (3) by an array of shape (3,3), the first array must be converted to shape (1,3)).\n",
    "3. If the shape of the arrays does not match in a dimension, the array with shape equal to 1 in that dimension is stretched to match the other shape. \n",
    "4. If in any dimension the sizes disagree and neither is equal to 1, an error is raised.\n",
    "\n",
    "In the example below, an array of shape (6, 6) is multiplied by an array of shape (6). This requires that the second array be broadcasted to a shape of (1, 6). "
   ]
  },
  {
   "cell_type": "code",
   "execution_count": 20,
   "metadata": {},
   "outputs": [
    {
     "name": "stdout",
     "output_type": "stream",
     "text": [
      "[[ 8 17 66 68 36 65]\n",
      " [75 46 62 86  8 89]\n",
      " [81 87 89 88 22 24]\n",
      " [44 59 88 72 90 69]\n",
      " [47 70 85 31 30 37]\n",
      " [ 9 77 48  5 83 68]]\n",
      "[2. 2. 2. 2. 2. 2.]\n",
      "[[ 16.  34. 132. 136.  72. 130.]\n",
      " [150.  92. 124. 172.  16. 178.]\n",
      " [162. 174. 178. 176.  44.  48.]\n",
      " [ 88. 118. 176. 144. 180. 138.]\n",
      " [ 94. 140. 170.  62.  60.  74.]\n",
      " [ 18. 154.  96.  10. 166. 136.]]\n"
     ]
    }
   ],
   "source": [
    "arr1 = np.random.randint(1, 100, 36)\n",
    "arr1b = arr1.reshape(6, 6)\n",
    "\n",
    "arr2 = np.ones((6))\n",
    "arr2[:] = 2\n",
    "\n",
    "print(arr1b)\n",
    "print(arr2)\n",
    "print(arr1b*arr2)"
   ]
  },
  {
   "cell_type": "markdown",
   "metadata": {},
   "source": [
    "NumPy provides mathematical functions and methods for performing common tasks. The last block of code below provides some examples. "
   ]
  },
  {
   "cell_type": "code",
   "execution_count": 21,
   "metadata": {},
   "outputs": [
    {
     "name": "stdout",
     "output_type": "stream",
     "text": [
      "1135\n",
      "15\n",
      "[[21.84032967 30.28200786 16.73320053 21.11871208 27.64054992]\n",
      " [24.8997992  21.04756518 26.98147513 33.12099032 33.36165464]\n",
      " [22.53885534 32.17141588 24.67792536 31.96873473 33.68976106]\n",
      " [ 3.87298335  7.          6.244998   17.97220076 24.41311123]\n",
      " [21.54065923 29.69848481 10.39230485 13.07669683 27.80287755]]\n"
     ]
    }
   ],
   "source": [
    "arr14 = np.random.randint(1, 1200, 25)\n",
    "arr14b = arr14.reshape(5, 5)\n",
    "\n",
    "print(np.max(arr14b))\n",
    "print(np.min(arr14b))\n",
    "print(np.sqrt(arr14b))"
   ]
  },
  {
   "attachments": {},
   "cell_type": "markdown",
   "metadata": {},
   "source": [
    "## Conclusions "
   ]
  },
  {
   "attachments": {},
   "cell_type": "markdown",
   "metadata": {},
   "source": [
    "As mentioned above, NumPy is central to using Python for analyzing data. So, an understanding of NumPy is important for data and geospatial data scientists. Additional libraries and modules make use of NumPy to expand Python's data science functionalities. In the next notebook, you will explore one of these libraries: **Pandas**. "
   ]
  }
 ],
 "metadata": {
  "kernelspec": {
   "display_name": "py4sa",
   "language": "python",
   "name": "python3"
  },
  "language_info": {
   "codemirror_mode": {
    "name": "ipython",
    "version": 3
   },
   "file_extension": ".py",
   "mimetype": "text/x-python",
   "name": "python",
   "nbconvert_exporter": "python",
   "pygments_lexer": "ipython3",
   "version": "3.10.9"
  },
  "vscode": {
   "interpreter": {
    "hash": "a6ff75c9eea1cc423693f453c5146b58e101d0acaa5aa6cb29950423ef44ea78"
   }
  }
 },
 "nbformat": 4,
 "nbformat_minor": 4
}
