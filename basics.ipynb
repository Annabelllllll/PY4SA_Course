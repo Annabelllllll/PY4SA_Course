{
 "cells": [
  {
   "cell_type": "markdown",
   "metadata": {},
   "source": [
    "# Python Basics"
   ]
  },
  {
   "cell_type": "markdown",
   "metadata": {},
   "source": [
    "Now you have adquire some basic skill of creating new notebooks, run your python environment, the next step and certantly long process is to learn the python basics of this programming languague. This will give you an initial idea og the 'gramma' rules python includes.\n",
    "\n",
    "Please go to each cell and address the challenges/question when is requiered. You must have forked and cloned this repository that includes the notebook you need to excute, once you have resolven the challengen included please commit and push your changes to your repository.\n",
    "\n",
    "Content:\n",
    "\n",
    "1. Declare **variables**.\n",
    "2. Explain the difference between **Python data types**.\n",
    "3. Perform mathematical and logical operations. \n",
    "4. Work with **lists**, **tuples**, **sets**, and **dictionaries**.\n",
    "5. Apply appropriate **methods** to different data types. \n",
    "\n",
    "For a more detailed discussion of general Python, please consult [w3school.com](https://www.w3schools.com/python/), which is a great resource for coders, scientists, and web developers. "
   ]
  },
  {
   "cell_type": "markdown",
   "metadata": {},
   "source": [
    "## Variables"
   ]
  },
  {
   "cell_type": "markdown",
   "metadata": {},
   "source": [
    "I think of **variables** as links to information or data. For example, a variable could reference a file path on your local machine, such as a path to a vector or raster geospatial layer, or a set of numbers. Once you create a variable, you can call it to reference the associated data or object for use in processes and analyses. Note that there are some rules for variable names:\n",
    "\n",
    "* cannot start with a number or special character (or, can only start with a letter or an underscore) (for example, x1 is valid while 1x is not.).\n",
    "* can only contain letters, numbers, or underscores. No other special characters are allowed (for example, x, x1, \\_x, and x1_ are all valid. x$ is not valid.).\n",
    "* are case-sensitive (for example, x1 and X1 are two separate variables).\n",
    "\n",
    "The code below provides examples for defining variables. Since Python is an object-based language, you will primarily interact with your data using variables. The *print()* function is used to print the data referenced by the variable."
   ]
  },
  {
   "cell_type": "code",
   "execution_count": null,
   "metadata": {},
   "outputs": [],
   "source": [
    "x = 1\n",
    "y = \"GIS\"\n",
    "x1 = 2\n",
    "y1 = \"Remote Sensing\"\n",
    "_x = 3\n",
    "_y = \"Web GIS\"\n",
    "print(x)\n",
    "print(y)\n",
    "print(x1)\n",
    "print(y1)\n",
    "print(_x)\n",
    "print(_y)"
   ]
  },
  {
   "cell_type": "markdown",
   "metadata": {},
   "source": [
    "You can also assign data to multiple variables as a single line of code as demonstrated below. I am reusing variable names; in Python variable names are dynamic, so you can overwrite them. This can, however, be problematic if you overwrite a variable name accidentally. So, use unique names if you do not want to overwrite prior variables. "
   ]
  },
  {
   "cell_type": "code",
   "execution_count": null,
   "metadata": {},
   "outputs": [],
   "source": [
    "x, x1, _x = 1, 2, 3\n",
    "print(x)\n",
    "print(x1)\n",
    "print(_x)"
   ]
  },
  {
   "cell_type": "markdown",
   "metadata": {},
   "source": [
    "**Assignment Operators** are used to assign values or data to variables. The most commonly used operator is *=*. However, there are some other options that allow variables to be manipulated mathematically with the resulting value saved back to the original data object that the variable references. These additional assignment operators can be useful, but we will use the *=* operator most of the time. \n",
    "\n",
    "For example, *+=* will add a value to the current value and assign the result back to the original variable. In the first example below, *x* references the value 2. The *+=* assignment operator is then used to add 3 to *x* and save the result back to *x*. Work through the provided examples and make sure you understand the use of each operator. "
   ]
  },
  {
   "cell_type": "code",
   "execution_count": null,
   "metadata": {},
   "outputs": [],
   "source": [
    "x = 2\n",
    "print(x)\n",
    "x += 3\n",
    "print(x)\n",
    "\n",
    "x = 2\n",
    "print(x)\n",
    "x -= 3\n",
    "print(x)\n",
    "\n",
    "x = 2\n",
    "print(x)\n",
    "x *= 3\n",
    "print(x)\n",
    "\n",
    "x = 2\n",
    "print(x)\n",
    "x /= 3\n",
    "print(x)\n",
    "\n",
    "x = 2\n",
    "print(x)\n",
    "x **= 3\n",
    "print(x)"
   ]
  },
  {
   "cell_type": "markdown",
   "metadata": {},
   "source": [
    "I now want to step through a simple experiment that explains some important behavior of the Python language. In the code below, I have defined a variable *a* that holds a **list** of three values. We will discuss **lists** later in this section. I then create a new variable *b* and assign it to be equal to *a*. I then edit variable *a* by appending a new value to the list (we will discuss how this is done later, so don't worry if you don't understand how this works yet). When I print *a* and *b*, you can see that both variables contain the same set of numbers in the list even though I added 8 to *a* after setting *b* equal to *a*. Or, the change that I made to *a* was also applied to *b*. \n",
    "\n",
    "In Python, certain types of objects, such as lists, are **mutable**. This means that it is possible to change the data stored in memory and referenced to the variable. When a mutable object is altered, all variables that point to it will reflect this change. What this means practically is that setting *b* equal to *a* results in *a* and *b* pointing to the same object or data in memory. So, changes to *a* or *b* will be reflected in both variables since the data being referenced by both have been updated. \n",
    "\n",
    "When I first started using Python, I struggled with this because I was used to the behavior used in the R language, in which setting a variable equal to another variable would make a copy that was not linked and could be altered without changing the original variable. \n",
    "\n",
    "To test whether two variables reference the same object in memory, you can use the *is* keyword. if *True* is returned, then they reference the same object. You can also print the object ID, which represents the memory address for the object, using the *id()* function. Using both methods below, you can see that *a* and *b* reference the same object. "
   ]
  },
  {
   "cell_type": "code",
   "execution_count": null,
   "metadata": {},
   "outputs": [],
   "source": [
    "a = [5, 6, 7]\n",
    "b = a\n",
    "a.append(8)\n",
    "print(a)\n",
    "print(b)\n",
    "\n",
    "print(a is b)\n",
    "print(id(a))\n",
    "print(id(b))"
   ]
  },
  {
   "cell_type": "markdown",
   "metadata": {},
   "source": [
    "What if you wanted to make a copy of a variable referencing mutable data that does not reference the same object? For example, you may want to be able to make changes to *a* that do not impact *b*. This can be accomplished using the *copy()* or *deepcopy()* functions from the **copy** module. \n",
    "\n",
    "In the experiment below, I have defined *b* as a deep copy of *a*. Now, changes made to *a* do not impact *b*. This is because they do not reference the same object in memory since *deepcopy()* makes a copy of the object or data to a new location in memory. This is confirmed using *is* and *id()*."
   ]
  },
  {
   "cell_type": "code",
   "execution_count": null,
   "metadata": {},
   "outputs": [],
   "source": [
    "import copy\n",
    "a = [5, 6, 7]\n",
    "b = copy.deepcopy(a)\n",
    "a.append(8)\n",
    "print(a)\n",
    "print(b)\n",
    "\n",
    "print(a is b)\n",
    "print(id(a))\n",
    "print(id(b))"
   ]
  },
  {
   "cell_type": "markdown",
   "metadata": {},
   "source": [
    "## Comments"
   ]
  },
  {
   "cell_type": "markdown",
   "metadata": {},
   "source": [
    "**Comments** are used to make your code more readable and are not interpreted by the computer. Instead, they are skipped and meant for humans. Different languages use different syntax to denote comments. Python uses the hashtag or pound sign. You can add comments as new lines or following code on the same line. Unfortunately, Python does not have specific syntax for multi-line comments. However, this can be accomplished by adding hashtags before each separate line or using a multi-line string that is not assigned to a variable. Examples are shown below. \n",
    "\n",
    "It is generally a good idea to comment your code for later use and for use by others. "
   ]
  },
  {
   "cell_type": "code",
   "execution_count": null,
   "metadata": {},
   "outputs": [],
   "source": [
    "#Single-line comment\n",
    "x = 1\n",
    "y = 2 #Another single-line comment\n",
    "#A\n",
    "#multi-line\n",
    "#comment\n",
    "z = 3\n",
    "\"\"\"\n",
    "Another multi-line comment\n",
    "\"\"\"\n",
    "w = 4"
   ]
  },
  {
   "cell_type": "markdown",
   "metadata": {},
   "source": [
    "## Data Types"
   ]
  },
  {
   "cell_type": "markdown",
   "metadata": {},
   "source": [
    "A variety of **data types** are available in Python to store and work with a variety of input. Below are explanations of the data types which you will use most often. There are additional types that we will not discuss. \n",
    "\n",
    "When creating a variable, it is not generally necessary to explicitly define the data type. However, this can be accomplished using **constructor functions** if so desired. Constructor functions can also be used to change the data type of a variable, a process known as **casting**. Available constructor methods include *str()*, *int()*, *float()*, *complex()*, *list()*, *tuple()*, *dict()*, *set()*, and *bool()*. \n",
    "\n",
    "To determine the data type, you can use the *type()* function. See the examples below where I convert an integer to a float and then a float to a string. \n",
    "\n",
    "* **Numeric**\n",
    "    * **Int** = whole numbers\n",
    "    * **Float** = numbers with decimal values\n",
    "    * **Complex** = can include imaginary numbers\n",
    "* **Text**\n",
    "    * **String** = characters or numbers treated as characters\n",
    "* **Boolean**\n",
    "    * **Boolean** = logical *True* or *False*\n",
    "* **Sequence**\n",
    "    * **List** = list of features that can be re-ordered, allows for duplicates, and is indexed\n",
    "    * **Tuple** = list of features that cannot be re-ordered, allows for duplicates, and is indexed\n",
    "* **Mapping** \n",
    "    * **Dictionary** = list of features that can be re-ordered, does not allow duplicates, is indexed, and contains **key** and **value** pairs\n",
    "* **Set**\n",
    "    * **Set** = list of features that are unordered, not indexed, and does not allow for duplicates"
   ]
  },
  {
   "cell_type": "code",
   "execution_count": null,
   "metadata": {},
   "outputs": [],
   "source": [
    "#Create a variable and check the data type\n",
    "x = 1\n",
    "print(type(x))\n",
    "#Change the data type\n",
    "x = float(x)\n",
    "print(type(x))\n",
    "x= str(x)\n",
    "print(type(x))"
   ]
  },
  {
   "cell_type": "markdown",
   "metadata": {},
   "source": [
    "### Numbers"
   ]
  },
  {
   "cell_type": "markdown",
   "metadata": {},
   "source": [
    "Regardless of the the type (integer, float, or complex), numbers are defined without using quotes. If a number is placed in quotes it will be treated as a string as demonstrated below. This is important, since the behavior of the data is altered. In the example, *x* represents 1 as a number while *y* represents \"1\" as a string (note the quotes). Adding *x* to itself will yield 2 (1 + 1). Adding *y* to itself will yield \"11\", or the two strings are combined or **concatenated**. "
   ]
  },
  {
   "cell_type": "code",
   "execution_count": null,
   "metadata": {},
   "outputs": [],
   "source": [
    "#Create variables\n",
    "x = 1\n",
    "y = \"1\"\n",
    "print(x + x)\n",
    "print(y + y)"
   ]
  },
  {
   "cell_type": "markdown",
   "metadata": {},
   "source": [
    "**Numbers** support mathematical operations, as demonstrated below. If you are not familiar with these concepts, **modulus** will return the remainder after division while **floor division** will round down to the nearest whole number after division. \n",
    "\n",
    "If a whole number has no decimal values included or no period (1 vs. 1. or 1.0), this implies that the output is in the integer data type as opposed to float type. "
   ]
  },
  {
   "cell_type": "code",
   "execution_count": null,
   "metadata": {},
   "outputs": [],
   "source": [
    "x = 4\n",
    "y = 3\n",
    "print(x + y) #Addition\n",
    "print(x - y) #Subtraction\n",
    "print(x * y) #Multiplication\n",
    "print(x / y) #Division\n",
    "print(x % y) #Modulus\n",
    "print(x ** y) #Exponentiation\n",
    "print(x // y) #Floor Division\n"
   ]
  },
  {
   "cell_type": "markdown",
   "metadata": {},
   "source": [
    "### Strings"
   ]
  },
  {
   "cell_type": "markdown",
   "metadata": {},
   "source": [
    "**Strings** are defined using single or double quotes. If quotes are included as part of the text or string, then you can use the other type to define the data as text. Again, numbers placed in quotes will be treated as strings."
   ]
  },
  {
   "cell_type": "code",
   "execution_count": null,
   "metadata": {},
   "outputs": [],
   "source": [
    "x = \"GIS\"\n",
    "y = \"That's great\" #Must use double quotes since a single quote is use in the string\n",
    "z = \"2\" #Number treated as a string"
   ]
  },
  {
   "cell_type": "markdown",
   "metadata": {},
   "source": [
    "Portions of a string can be sliced out using **indexes**. Note that Python starts indexing at 0 as opposed to 1. So, the first character is at index 0 as opposed to index 1. Negative indexes can be used to index relative to the end of the string. In this case, the last character has an index of -1. \n",
    "\n",
    "Indexes combined with square brackets can be used to slice strings. Note that the last index specified in the selection or range will not be included and that spaces are counted in the indexing. "
   ]
  },
  {
   "cell_type": "code",
   "execution_count": null,
   "metadata": {},
   "outputs": [],
   "source": [
    "x = \"Geography 350: GIScience\"\n",
    "print(x[0:9])\n",
    "print(x[10:13])\n",
    "print(x[15:25])\n",
    "print(x[-14:-11])"
   ]
  },
  {
   "cell_type": "markdown",
   "metadata": {},
   "source": [
    "Strings can be combined or **concatenated** using the addition sign. If you want to include a number in the string output, you can **cast** it to a string using *str()*. In the example below, note the use of blank spaces so that the strings are not ran together. \n",
    "\n",
    "The *len()* function can be used to return the length of the string, which will count blank spaces along with characters. "
   ]
  },
  {
   "cell_type": "code",
   "execution_count": null,
   "metadata": {},
   "outputs": [],
   "source": [
    "x = \"Geography\"\n",
    "y = 350\n",
    "z = \":\"\n",
    "w = \"GIScience\"\n",
    "strng1 = x + \" \" + str(y) + z + \" \" + w\n",
    "print(strng1)\n",
    "print(len(strng1))"
   ]
  },
  {
   "cell_type": "markdown",
   "metadata": {},
   "source": [
    "A **method** is a function that belongs to or is associated with an object. Or, it allows you to work with or manipulate the object and its associated properties in some way. Data types have default methods that can be applied to them. \n",
    "\n",
    "Methods applicable to strings are demonstrated below. Specifically, methods are being used to change the case and split the string at each space to save each component to a list. "
   ]
  },
  {
   "cell_type": "code",
   "execution_count": null,
   "metadata": {},
   "outputs": [],
   "source": [
    "x = \"Geography 657: Remote Sensing Principles\"\n",
    "print(x.upper())\n",
    "print(x.lower())\n",
    "lst1 = x.split(\" \")\n",
    "print(lst1)"
   ]
  },
  {
   "cell_type": "markdown",
   "metadata": {},
   "source": [
    "When generating strings, issues arise when you use characters that have special uses or meaning in Python. These issues can be alleviated by including an **escape character** or backslash as demonstrated below. "
   ]
  },
  {
   "cell_type": "code",
   "execution_count": null,
   "metadata": {},
   "outputs": [],
   "source": [
    "s1 = \"Issue with \\\"quotes\\\" in the string.\"\n",
    "s2 = \"C:\\\\data\\\\project_1\" #Issue with file paths. \n",
    "s3 = \"Add a new line \\nto text string\"\n",
    "print(s1)\n",
    "print(s2)\n",
    "print(s3)"
   ]
  },
  {
   "cell_type": "markdown",
   "metadata": {},
   "source": [
    "### Booleans"
   ]
  },
  {
   "cell_type": "markdown",
   "metadata": {},
   "source": [
    "**Booleans** can only be *True* or *False* and are often returned when an expression is logically evaluated. A variety of **comparison operators** are available. Note the use of double equals; a single equals cannot be used since it is already used for variable assignment, or is an assignment operator, and would thus be ambiguous. \n",
    "\n",
    "* **Comparison Operators**\n",
    "    * **Equal**: ==\n",
    "    * **Not Equal**: !=\n",
    "    * **Greater Than**: >\n",
    "    * **Greater Than or Equal To**: >=\n",
    "    * **Less Than**: <\n",
    "    * **Less Than or Equal To**: <=\n",
    "\n",
    "Logical statements or multiple expressions can be combined using **Logical Operators**.\n",
    "\n",
    "* **Logical Operators**:\n",
    "    * A AND B: **and**\n",
    "    * A OR B: **or**\n",
    "    * A NOT B: **not**"
   ]
  },
  {
   "cell_type": "code",
   "execution_count": null,
   "metadata": {},
   "outputs": [],
   "source": [
    "x = 3\n",
    "y = 7\n",
    "z = 2\n",
    "print(x == 7)\n",
    "print(x > y)\n",
    "print(x < y)\n",
    "\n",
    "print(x < y and x > z)\n",
    "print(x < y and x < z)\n",
    "print(x < y or x < z)"
   ]
  },
  {
   "cell_type": "markdown",
   "metadata": {},
   "source": [
    "You can also assign Booleans to a variable. Note that you do not use quotes, as that would cause the text to be treated as a string instead of a Boolean. "
   ]
  },
  {
   "cell_type": "code",
   "execution_count": null,
   "metadata": {},
   "outputs": [],
   "source": [
    "x = \"True\"\n",
    "y = True\n",
    "print(type(x))\n",
    "print(type(y))"
   ]
  },
  {
   "cell_type": "markdown",
   "metadata": {},
   "source": [
    "### Lists"
   ]
  },
  {
   "cell_type": "markdown",
   "metadata": {},
   "source": [
    "**Lists** allow you to store multiple numbers, strings, or Booleans in a single variable. Square brackets are used to denote lists.\n",
    "\n",
    "Items in a list are ordered, indexed, and allow for duplicate members. Indexing starts at 0. If counting from the end, you start at -1 and subtract as you move left. A colon can be used to denote a range of indexes, and an empty argument before the colon indicates to select all elements up to the element following the colon while an empty argument after the colon indicates to select the element at the index specified before the colon and all features up to the end of the list. The element at the last index is not included in the selection. \n",
    "\n",
    "Python lists can contain elements of different data types."
   ]
  },
  {
   "cell_type": "code",
   "execution_count": null,
   "metadata": {},
   "outputs": [],
   "source": [
    "lst1 = [6, 7, 8, 9, 11, 2, 0]\n",
    "lst2 = [\"A\", \"B\", \"C\", \"D\", \"E\"]\n",
    "lst3 = [True, False, True, True, True, False]\n",
    "print(lst1[0])\n",
    "print(lst1[0:3])\n",
    "print(lst2[-4:-1])\n",
    "print(lst2[:3])\n",
    "print(lst2[3:])\n",
    "lst4 = [1, 2, \"A\", \"B\", True]\n",
    "print(type(lst4[0]))\n",
    "print(type(lst4[2]))\n",
    "print(type(lst4[4]))"
   ]
  },
  {
   "cell_type": "markdown",
   "metadata": {},
   "source": [
    "When the *len()* function is applied to a list, it will return the number of items or elements in the list as opposed to the number of characters. When applied to a string item in a list, this function will return the length of the string. "
   ]
  },
  {
   "cell_type": "code",
   "execution_count": null,
   "metadata": {},
   "outputs": [],
   "source": [
    "lst1 = [\"A\", \"B\", \"C\", \"D\", \"E\"]\n",
    "print(len(lst1))\n",
    "print(len(lst1[0]))"
   ]
  },
  {
   "cell_type": "markdown",
   "metadata": {},
   "source": [
    "The code below shows some example methods for strings."
   ]
  },
  {
   "cell_type": "code",
   "execution_count": null,
   "metadata": {},
   "outputs": [],
   "source": [
    "lst1 = [\"A\", \"B\", \"C\", \"D\", \"E\"]\n",
    "lst1.append(\"F\") #Add item to list\n",
    "print(lst1)\n",
    "lst1.remove(\"F\") #Remove item from a list\n",
    "print(lst1) \n",
    "lst1.insert(2, \"ADD\") #Add item to list at defined position \n",
    "print(lst1)\n",
    "lst1.pop(2) #Remove item at specified index or the last item if no index is provided\n",
    "print(lst1)"
   ]
  },
  {
   "cell_type": "markdown",
   "metadata": {},
   "source": [
    "As explained above, in order to copy a list and not just reference the original data object, you must use the *copy()* or *deepcopy()* method. Simply setting a new variable equal to the original list will cause it to reference the original data object, so changes made to the old list will update to the new list. This is demonstrated in the example below. "
   ]
  },
  {
   "cell_type": "code",
   "execution_count": null,
   "metadata": {},
   "outputs": [],
   "source": [
    "lst1 = [\"A\", \"B\", \"C\", \"D\", \"E\"]\n",
    "lst2 = lst1\n",
    "lst3 = lst1.copy()\n",
    "print(lst2)\n",
    "print(lst3)\n",
    "lst1.append(\"F\")\n",
    "print(lst2)\n",
    "print(lst3)"
   ]
  },
  {
   "cell_type": "markdown",
   "metadata": {},
   "source": [
    "Lists can be concatenated together, or a list can be appended to another list, using the methods demonstrated below. "
   ]
  },
  {
   "cell_type": "code",
   "execution_count": null,
   "metadata": {},
   "outputs": [],
   "source": [
    "lst1 = [\"A\", \"B\", \"C\"]\n",
    "lst2 = [\"D\", \"E\", \"F\"]\n",
    "lst3 = lst1 + lst2\n",
    "print(lst1)\n",
    "print(lst2)\n",
    "print(lst3)\n",
    "lst1.extend(lst2)\n",
    "print(lst1)"
   ]
  },
  {
   "cell_type": "markdown",
   "metadata": {},
   "source": [
    "Lastly, lists can contain other lists, tuples, or dictionaries, which will be discussed below. In the example, *lst2* contains four elements, the last of which is a list with three elements. "
   ]
  },
  {
   "cell_type": "code",
   "execution_count": null,
   "metadata": {},
   "outputs": [],
   "source": [
    "lst1 = [\"A\", \"B\", \"C\"]\n",
    "lst2 = [\"D\", \"E\", \"F\", lst1]\n",
    "print(lst2)"
   ]
  },
  {
   "cell_type": "markdown",
   "metadata": {},
   "source": [
    "### Tuples and Sets"
   ]
  },
  {
   "cell_type": "markdown",
   "metadata": {},
   "source": [
    "**Tuples** are similar to lists in that they are ordered and allow duplicate elements. However, they cannot be altered by adding items, removing items, or changing the order of items. To differentiate them from lists, parenthesis are used as opposed to square brackets. I generally think of tuples as lists that are protected from alteration, so I tend to use them when I want to make sure I don't accidentally make changes. \n",
    "\n",
    "If you need to change a tuple, it can be converted to a list, manipulated, then converted back to a tuple. "
   ]
  },
  {
   "cell_type": "code",
   "execution_count": null,
   "metadata": {},
   "outputs": [],
   "source": [
    "t1 = (1, 3, 4, 7)\n",
    "print(type(t1))"
   ]
  },
  {
   "cell_type": "markdown",
   "metadata": {},
   "source": [
    "A **set** is similar to a tuple or list. However, elements are unordered, not indexed, and no duplicate elements are allowed. Sets are defined using curly brackets. Since no indexing is included, elements cannot be selected using associated indices. \n",
    "\n",
    "I find that I rarely use sets."
   ]
  },
  {
   "cell_type": "markdown",
   "metadata": {},
   "source": [
    "### Dictionaries"
   ]
  },
  {
   "cell_type": "markdown",
   "metadata": {},
   "source": [
    "**Dictionaries** are unordered, changeable, indexed, and do not allow for duplicate elements. In contrast to lists, tuples, and sets, each **value** is also assigned a **key**. Values can be selected using the associated key. \n",
    "\n",
    "You can also use the key to define a value to change.\n",
    "\n",
    "Similar to lists, you must use the *copy()* or *deepcopy()* method to obtain a copy of the dictionary that will not reference the original data or memory object. "
   ]
  },
  {
   "cell_type": "code",
   "execution_count": null,
   "metadata": {},
   "outputs": [],
   "source": [
    "cls = {\"prefix\" : \"Geography\", \"Number\" : 661, \"Name\": \"Web GIS\"}\n",
    "print(cls)\n",
    "print(cls[\"Name\"])\n",
    "cls[\"Number\"] = 461\n",
    "print(cls)"
   ]
  },
  {
   "cell_type": "markdown",
   "metadata": {},
   "source": [
    "Multiple dictionaries can be combined into a **nested dictionary**, as demonstrated below. \n",
    "\n",
    "The keys can then be used to extract a sub-dictionary or an individual element from a sub-dictionary. "
   ]
  },
  {
   "cell_type": "code",
   "execution_count": null,
   "metadata": {},
   "outputs": [],
   "source": [
    "cls1 = {\"prefix\" : \"Geography\", \"Number\" : 150, \"Name\": \"Digital Earth\"}\n",
    "cls2 = {\"prefix\" : \"Geography\", \"Number\" : 350, \"Name\": \"GIScience\"}\n",
    "cls3 = {\"prefix\" : \"Geography\", \"Number\" : 455, \"Name\": \"Introduction to Remote Sensing\"}\n",
    "cls4 = {\"prefix\" : \"Geography\", \"Number\" : 661, \"Name\": \"Web GIS\"}\n",
    "clsT = {\n",
    "    \"class1\" : cls1,\n",
    "    \"class2\" : cls2,\n",
    "    \"class3\" : cls3,\n",
    "    \"class4\" : cls4\n",
    "}\n",
    "print(clsT)\n",
    "print(clsT[\"class1\"])\n",
    "print(clsT[\"class1\"][\"Name\"])"
   ]
  },
  {
   "cell_type": "markdown",
   "metadata": {},
   "source": [
    "## Additional Types"
   ]
  },
  {
   "cell_type": "markdown",
   "metadata": {},
   "source": [
    "### Arrays"
   ]
  },
  {
   "cell_type": "markdown",
   "metadata": {},
   "source": [
    "**Arrays** are similar to lists; however, they must be declared. They are sometimes used in place of lists as they can be very compact and easy to apply mathematical operations to. In this course, we will primarily work with **NumPy** arrays, which will be discussed in more detail in a later module. "
   ]
  },
  {
   "cell_type": "markdown",
   "metadata": {},
   "source": [
    "### Classes"
   ]
  },
  {
   "cell_type": "markdown",
   "metadata": {},
   "source": [
    "**Classes** are used to define specific types of objects in Python and are often described as templates. Once a class is defined, it can be copied and manipulated to create a **subclass**, which will inherit properties and methods from the parent class but can be altered for specific uses. We will not explore this topic in detail in this module, but will return to it in the next module. You will also see example uses of classes in later modules. \n",
    "\n",
    "One use of classes is to define specialized data models and their associated methods and properties. For example, classes have been defined to work with geospatial data types. "
   ]
  },
  {
   "cell_type": "markdown",
   "metadata": {},
   "source": [
    "Before moving one, I wanted to note which data types are **mutable** and which are **immutable**. Again, data or objects that are mutable can be altered after they are defined (such as adding a new element to a list).\n",
    "\n",
    "Mutable types include **lists**, **sets**, and **dictionaries**.\n",
    "\n",
    "Immutable types include **booleans**, **integers**, **float**, **complex**, **strings**, and **tuples**."
   ]
  },
  {
   "cell_type": "markdown",
   "metadata": {},
   "source": [
    "## Concluding Remarks"
   ]
  },
  {
   "cell_type": "markdown",
   "metadata": {},
   "source": [
    "My goal here was to provide a basic introduction to Python. Again, [w3school.com](https://www.w3schools.com/python/) is a great resource for coders, scientists, and web developers if you want to explore additional examples and topics. \n",
    "\n",
    "You likely do not feel comfortable with general Python yet. However, you will get practice while working through the remaining modules. I think you will find that a good grasp of the basics can go a long way. \n",
    "\n",
    "In the next section, we will discuss more components of the Python languages including functions, control flow, loops, modules, and reading data from disk. "
   ]
  }
 ],
 "metadata": {
  "celltoolbar": "Raw Cell Format",
  "kernelspec": {
   "display_name": "Python 3 (ipykernel)",
   "language": "python",
   "name": "python3"
  },
  "language_info": {
   "codemirror_mode": {
    "name": "ipython",
    "version": 3
   },
   "file_extension": ".py",
   "mimetype": "text/x-python",
   "name": "python",
   "nbconvert_exporter": "python",
   "pygments_lexer": "ipython3",
   "version": "3.10.9"
  },
  "vscode": {
   "interpreter": {
    "hash": "3f407111c129f019f2340fe5f9de2048ab167daf9d5431fe44f2b7f9a5a6e947"
   }
  }
 },
 "nbformat": 4,
 "nbformat_minor": 4
}
