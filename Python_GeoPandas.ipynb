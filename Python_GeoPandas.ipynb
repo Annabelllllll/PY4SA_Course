{
 "cells": [
  {
   "attachments": {},
   "cell_type": "markdown",
   "metadata": {},
   "source": [
    "# Python for Spatial Analysis\n",
    "## Second part of the module of GG3209 Spatial Analysis with GIS.\n",
    "### Notebook to learn and practice GeoPandas\n",
    "---\n",
    "Dr Fernando Benitez -  University of St Andrews - School of Geography and Sustainable Development - First Iteration 2023 v.1.0 "
   ]
  },
  {
   "attachments": {},
   "cell_type": "markdown",
   "metadata": {},
   "source": [
    "### Introduction \n",
    "\n",
    "Nowadays there are so many libraries to work with spatial data using Python, describing all those libraries would be require a huge among of time. However in this module we will describe the most relevant ones, and from here you will get the basics that are needed to work in the future with similar libraries. \n",
    "\n",
    "All libraries have their own pros and cons. Below is a list of some common tools for geospatial analysis in Python.\n",
    "\n",
    "1. [**ArcPy**](https://pro.arcgis.com/en/pro-app/tool-reference/main/arcgis-pro-tool-reference.htm): Python site package integrated into the **ArcGIS Pro** software environments. ArcPy can be used within ArcGIS Pro via the Python window. ArcGIS Pro now includes **Jupyter Notebook** as part of the base installation. You can also work within notebooks inside of ArcGIS Pro. One relevant Con is Esri Technologies are not free or open-source, so in this module we are limited to work or discuss but in the future module you will learn how to use it. ArcGIS and particularly ArcPY are very powerful and worth investigating. I personally use ArcPy a lot in my own work. Besides it might the most documented tool among the rest.\n",
    "   \n",
    "2. [**GeoPandas**](https://geopandas.org/): You new bestie in Python. Expands **Pandas** to allow for working with vector data using the **Series** and **DataFrame** structures. I will provide an introduction to GeoPandas in this module, which will build upon our prior discussion of Pandas. GeoPandas relies on several dependencies including the following which we have already discussed: **NumPy**, **Pandas**, and **matplotlib**. It also relies on the following libraries/modules:\n",
    "    - [**Shapely**](https://shapely.readthedocs.io/en/latest/): used to perform geometric and overlay operations.\n",
    "    - [**Fiona**](https://fiona.readthedocs.io/en/latest/): used to read and write geospatial data files via links to the **Geospatial Data Abstraction Library (GDAL)**\n",
    "    - [**PyProj**](https://github.com/pyproj4/pyproj): interface to **PROJ** and allows for reading and transformation of geographic and projected coordinate systems. \n",
    "    - [**MapClassify**](https://pysal.org/mapclassify/): allows for choropleth mapping. \n",
    "    - [**Descartes**](https://pypi.org/project/descartes/): use vector geospatial features with matplotlib.\n",
    "  \n",
    "3. [**Rasterio**](https://rasterio.readthedocs.io/en/latest/intro.html): allows for reading, writing, and manipulation of raster geospatial data. This package relies heavily on NumPy so that rasters can be manipulated as arrays. \n",
    "\n",
    "4. [**Contextily**](https://github.com/geopandas/contextily): allows for retrieval of **raster tile layers** for use as base maps within matplotlib plots. \n",
    "\n",
    "5. [**EarthPy**](https://earthpy.readthedocs.io/en/latest/): expands the functionality of GeoPandas and Rasterio. Very useful for raster and multispectral image analysis. \n",
    "\n",
    "6. [**WhiteboxTools**](https://jblindsay.github.io/wbt_book/intro.html): provides more than 440 tools for analyzing geospatial data, including tools for data preparation, vector analysis and overlay, raster and image analysis, geomorphometric analysis, hydrological analysis, and LiDAR processing. These tools can be accessed in Python, R, QGIS, and via a command-line interface. They can also be accessed via a graphical user interface (GUI) known as [**Whitebox GAT**](https://jblindsay.github.io/ghrg/Whitebox/). This tool set was developed by [Dr. John Lindsay](https://jblindsay.github.io/ghrg/index.html) of the Geomorphometry & Hydrogeomatics Research Group at the University of Guelph.\n",
    "\n",
    "Because we are limited by only one lecture we can briefly cover an intro of GeoPandas and Rasteio, but in future modules we will have more time to dig into those resources. \n",
    "\n",
    "## Content\n",
    "\n",
    "1. Read and write vector geospatial data using **GeoPandas**.\n",
    "2. Read and write raster geospatial data using **Rasterio**.\n",
    "3. Visualize geospatial data and make maps using **GeoPandas**, **Rasterio**, and **matplotlib**.\n",
    "4. Perform a wide variety of spatial analysis tasks using **WhiteboxTools** (This is optional, and will be included in the next version of this module)"
   ]
  },
  {
   "attachments": {},
   "cell_type": "markdown",
   "metadata": {},
   "source": [
    "## Importing the libraries"
   ]
  },
  {
   "cell_type": "code",
   "execution_count": null,
   "metadata": {},
   "outputs": [],
   "source": [
    "import numpy as np\n",
    "import pandas as pd\n",
    "import matplotlib.pyplot as plt\n",
    "%matplotlib inline\n",
    "import geopandas as gpd\n",
    "import contextily as ctx\n",
    "import rasterio as rio\n",
    "#import whitebox\n",
    "#wbt = whitebox.WhiteboxTools()\n",
    "#import earthpy as et\n",
    "#import earthpy.spatial as es\n",
    "#import earthpy.plot as ep\n",
    "plt.rcParams['figure.figsize'] = [10, 8]"
   ]
  },
  {
   "attachments": {},
   "cell_type": "markdown",
   "metadata": {},
   "source": [
    "## GeoPandas\n",
    "\n",
    "### Reading the data from external file.\n",
    "\n",
    "In most of the GeoPandas tutorials, they describe how you can create a spatial structure, and how you can create vector geometries. But that only happens for more advances scripts, although it gives you an idea about how GeoPandas work for this part of the course we will focus on using data from external sources. For example the data from the census, or data you have processed in the initial part of this module, using QGIS. "
   ]
  },
  {
   "attachments": {},
   "cell_type": "markdown",
   "metadata": {},
   "source": [
    "First, I am reading in a polygon vector layer of Scottish Index of Multiple Deprivation per Data zone using GeoPandas. The *plot()* method is then used to display the data using matplotlib and some default settings. The axes values represent measurements within the coordinate system. "
   ]
  },
  {
   "cell_type": "code",
   "execution_count": null,
   "metadata": {},
   "outputs": [],
   "source": [
    "simd_geo = gpd.read_file('data/SG_SIMD_2020/SIMD_20_Geo.shp')\n",
    "simd_geo.plot()"
   ]
  },
  {
   "attachments": {},
   "cell_type": "markdown",
   "metadata": {},
   "source": [
    "Using the *head()* method, that you are already familiar with,  you can see that the structure of these data are very similar to a Pandas DataFrame. \n",
    "\n",
    "In fact, it is a Pandas DataFrame with one key addition: The geometric information is stored in a column in the table. Based on what you know from the previous part of the course the vector data model integrated here is similar to other **object-based** models in which the geometric and tabulated data are stored in the same object or table. This is similar to a feature class in a file geodatabase or an sf object in R. \n",
    "\n",
    "On of the advantages of referencing our vector data using this method is that we can apply the Pandas methods discussed earlier. For example, you can query and subset records, add new columns, group and summarize, and perform table joins. "
   ]
  },
  {
   "cell_type": "code",
   "execution_count": null,
   "metadata": {},
   "outputs": [],
   "source": [
    "simd_prj.head()"
   ]
  },
  {
   "attachments": {},
   "cell_type": "markdown",
   "metadata": {},
   "source": [
    "The *crs* attribute lists the spatial coordinate system information for the file.\n",
    "\n",
    "It is generally a good idea to explore this information to make sure that the projection information is properly loaded.\n",
    "\n",
    "Projections are referenced using **European Petroleum Survey Group** (**EPSG**) codes. Here, you can see o copy of the SMID_2020 data but in a projected reference system British National Grid (EPSG:27700). The geographic coordinate system or datum is WGS84. The easting and northing measurements are reported in meters. The area of use of the coordinate system is also defined. "
   ]
  },
  {
   "cell_type": "code",
   "execution_count": null,
   "metadata": {},
   "outputs": [],
   "source": [
    "simd_prj = gpd.read_file('data/SG_SIMD_2020/SG_SIMD_2020.shp')\n",
    "simd_prj.plot()"
   ]
  },
  {
   "cell_type": "code",
   "execution_count": null,
   "metadata": {},
   "outputs": [],
   "source": [
    "#simd_geo.crs\n",
    "simd_prj.crs"
   ]
  },
  {
   "attachments": {},
   "cell_type": "markdown",
   "metadata": {},
   "source": [
    "The *bounds()* method provides the rectangular bounds of each feature in the data set relative to the coordinate system as a Pandas DataFrame. \n",
    "\n",
    "In contrast, the *total_bounds()* method provides the bounds for the entire dataset as an array."
   ]
  },
  {
   "cell_type": "code",
   "execution_count": null,
   "metadata": {},
   "outputs": [],
   "source": [
    "print(simd_prj.bounds.head())"
   ]
  },
  {
   "cell_type": "code",
   "execution_count": null,
   "metadata": {},
   "outputs": [],
   "source": [
    "simd_prj.total_bounds"
   ]
  },
  {
   "attachments": {},
   "cell_type": "markdown",
   "metadata": {},
   "source": [
    "The GeoPandas *centroid* method returns the **centroid** of each feature in the data set. There are a variety of spatial operations that can be performed using GeoPandas and its dependencies. If you are interested in the operations available, please review the GeoPandas documentation referenced above. "
   ]
  },
  {
   "cell_type": "code",
   "execution_count": null,
   "metadata": {},
   "outputs": [],
   "source": [
    "simd_cen = simd_geo.centroid\n",
    "simd_cen.plot()"
   ]
  },
  {
   "attachments": {},
   "cell_type": "markdown",
   "metadata": {},
   "source": [
    "**Contextily** allows for **raster tile base maps** to be added to maps produced with matplotlib. \n",
    "\n",
    "In the example below, the geospatial data are not drawing at the correct location. This is because the raster tile base maps are referenced to the Web Mercator projection whereas the SIMD data are referenced to OSGB36 / British National Grid. Python is not able to perform projection on-the-fly operations, like QGIS/ArcGIS do. So, it is important that data layers have the same spatial reference system. \n",
    "\n",
    "You can use the *to_crs()* GeoPandas method and appropriate EPSG code to create a copy of the counties data that have been transformed to the Web Mercator projection. When I recreate the map and add the base map, everything lines up. So, it is important that you consider the impact of projections and make changes where necessary. When performing overlay and spatial analysis, it is preferable that all of your data layers are referenced to the same spatial coordinate reference system. "
   ]
  },
  {
   "cell_type": "code",
   "execution_count": null,
   "metadata": {},
   "outputs": [],
   "source": [
    "simd_map = simd_prj.plot()\n",
    "ctx.add_basemap(simd_map)"
   ]
  },
  {
   "cell_type": "code",
   "execution_count": null,
   "metadata": {},
   "outputs": [],
   "source": [
    "simd_cWebM = simd_geo.to_crs(\"EPSG:3857\")\n",
    "simd_map = simd_cWebM.plot()\n",
    "ctx.add_basemap(simd_map)"
   ]
  },
  {
   "attachments": {},
   "cell_type": "markdown",
   "metadata": {},
   "source": [
    "The *to_file()* GeoPandas method allows you to save results back to disk. Since GeoPandas uses Fiona and GDAL, a variety of formats can be read and written. "
   ]
  },
  {
   "cell_type": "code",
   "execution_count": null,
   "metadata": {},
   "outputs": [],
   "source": [
    "simd_cWebM.to_file(\"data/out/simd_web_mercator.shp\")"
   ]
  },
  {
   "attachments": {},
   "cell_type": "markdown",
   "metadata": {},
   "source": [
    "The GeoPandas *plot()* method allows you to plot or map your vector data using matplotlib. The *column* parameter allows you to symbolize relative to attribute data (quintileV2 in this example). You can also use color ramps available via matplotlib or make your own. \n",
    "\n",
    "[Here](https://matplotlib.org/3.3.1/tutorials/colors/colormaps.html) is a link to a list of named matplotlib color ramps."
   ]
  },
  {
   "cell_type": "code",
   "execution_count": null,
   "metadata": {},
   "outputs": [],
   "source": [
    "simd_geo.plot(column=\"Quintilev2\", cmap=\"BuGn\")"
   ]
  },
  {
   "attachments": {},
   "cell_type": "markdown",
   "metadata": {},
   "source": [
    "Using methods that we have already discussed in Pandas, you can generate a new population density field from the available population and area attributes. I then symbolize relative to this new field. The *scheme* argument allows you to specify a classification method. \n",
    "\n",
    "You can also add a legend, change its position, and set a title as demonstrated in the following examples. "
   ]
  },
  {
   "cell_type": "code",
   "execution_count": null,
   "metadata": {},
   "outputs": [],
   "source": [
    "simd_prj['square_kms'] = simd_prj['Shape_Area']/ 1000\n",
    "simd_prj['pop_den'] = simd_prj['SAPE2017']/simd_prj['square_kms']\n",
    "\n",
    "\n",
    "simd_prj.plot(column=\"pop_den\", cmap=\"YlOrRd\", scheme=\"quantiles\")"
   ]
  },
  {
   "cell_type": "code",
   "execution_count": null,
   "metadata": {},
   "outputs": [],
   "source": [
    "fig, ax = plt.subplots(1, 1)\n",
    "simd_prj.plot(column='pop_den', cmap=\"YlOrRd\", ax=ax, legend=True, legend_kwds={'label': \"Population Density\", 'orientation': \"vertical\"})"
   ]
  },
  {
   "attachments": {},
   "cell_type": "markdown",
   "metadata": {},
   "source": [
    "Using the guidance from the notebook related to data visualization module, here I am creating a figure with multiple axes in which to place several maps. I changed the *scheme* argument to compare different legend classification methods., similar to the way you could create those maps in QGIS or ArcGIS"
   ]
  },
  {
   "cell_type": "code",
   "execution_count": null,
   "metadata": {},
   "outputs": [],
   "source": [
    "plt.rcParams['figure.figsize'] = [10, 8]\n",
    "fig, ax = plt.subplots(2, 2)\n",
    "simd_prj.plot(column=\"pop_den\", ax=ax[0,0], cmap=\"YlOrRd\", scheme=\"Quantiles\")\n",
    "ax[0,0].set_title(\"Quantiles\", fontsize=24, color=\"#000000\")\n",
    "ax[0,0].axis(\"off\")\n",
    "simd_prj.plot(column=\"pop_den\", ax=ax[0,1], cmap=\"YlOrRd\", scheme=\"Percentiles\")\n",
    "ax[0,1].set_title(\"Percentiles\", fontsize=24, color=\"#000000\")\n",
    "ax[0,1].axis(\"off\")\n",
    "simd_prj.plot(column=\"pop_den\", ax=ax[1,0], cmap=\"YlOrRd\", scheme=\"EqualInterval\")\n",
    "ax[1,0].set_title(\"Equal Interval\", fontsize=24, color=\"#000000\")\n",
    "ax[1,0].axis(\"off\")\n",
    "simd_prj.plot(column=\"pop_den\", ax=ax[1,1], cmap=\"YlOrRd\", scheme=\"NaturalBreaks\")\n",
    "ax[1,1].set_title(\"Natural Breaks\", fontsize=24, color=\"#000000\")\n",
    "ax[1,1].axis(\"off\")\n",
    "fig.patch.set_facecolor('#bcd1bc')"
   ]
  },
  {
   "attachments": {},
   "cell_type": "markdown",
   "metadata": {},
   "source": [
    "Finally, You could generate a map layout that incorporates multiple layers. Which is very useful when you need to compare or integrate  multiple variable in your map or analysis. Think about multiple layer or in this case multiple geo-dataframes. The Number of people in households without central heating (HouseNumNC) is displayed then overlaid with point data representing the Localities . To make sure that all of these layers plot in the same map space, I reference the same axis with the *ax* parameter. \n",
    "\n",
    "Here are some helpful links for setting marker and line styles:\n",
    "\n",
    "* [Matplotlib.Markers](https://matplotlib.org/3.1.1/api/markers_api.html)\n",
    "* [Matplotlib.PyPlot.Plot](https://matplotlib.org/3.1.0/api/_as_gen/matplotlib.pyplot.plot.html)"
   ]
  },
  {
   "cell_type": "code",
   "execution_count": null,
   "metadata": {},
   "outputs": [],
   "source": [
    "plt.rcParams['figure.figsize'] = [10, 8]\n",
    "fig, ax = plt.subplots(1, 1)\n",
    "simd_prj.plot(column='HouseNumNC', cmap=\"YlGn\", ax=ax, legend=True, legend_kwds={'label': \"Number of people in households without central heating\", 'orientation': \"vertical\"})\n",
    "wv_t = gpd.read_file('data/SG_SIMD_2020/Localities_Centroids.shp')\n",
    "wv_t.plot(ax=ax, marker=\"D\", color=\"gray\", markersize=1)"
   ]
  },
  {
   "attachments": {},
   "cell_type": "markdown",
   "metadata": {},
   "source": [
    "## Rasterio"
   ]
  },
  {
   "attachments": {},
   "cell_type": "markdown",
   "metadata": {},
   "source": [
    "After workking brieflty with vector data in particular with shapefiles, now we will now move on to discuss working with raster geospatial data using **Rasterio** and **EarthPy**. \n",
    "\n",
    "The Rasterio *open()* method allows for data to be read from disk in either reading or writing mode. Here, we will primarily use reading mode, which is the default, since we just want to connect to the data and not manipulate it on the disk. Rasterio can read a variety of raster data types and formats due its reliance on **GDAL**. \n",
    "\n",
    "Once a connection is made to a raster data layer, a variety of attributes are available to describe and explore the data. \n",
    "\n",
    "Once you have read the data you could get the number of bands, number of columns, number of rows, bounding geometry, and spatial coordinate system as an EPSG code.\n",
    "\n",
    "When you are done using a layer, it is generally recommend to disconnect using the *close()* method. "
   ]
  },
  {
   "cell_type": "code",
   "execution_count": null,
   "metadata": {},
   "outputs": [],
   "source": [
    "elev = rio.open('data/img/ElevationModel_UK.tif')\n",
    "print(elev.name)\n",
    "print(elev.count)\n",
    "print(elev.width)\n",
    "print(elev.height)\n",
    "print(elev.bounds)\n",
    "print(elev.crs)\n",
    "#elev.close()"
   ]
  },
  {
   "attachments": {},
   "cell_type": "markdown",
   "metadata": {},
   "source": [
    "As it was described in previous lectures once the data is read is loaded into your computer's memory, in this case, once a connection is made to a data layer, it can be read into memory as a **NumPy array**, since raster data are essentially arrays.\n",
    "\n",
    "Now you recall why was important to understand initially how NumPy works. This is convenient because we can now use NumPy operations, functions, and methods on our gridded data. This is accomplished using the *read()* method. "
   ]
  },
  {
   "cell_type": "code",
   "execution_count": null,
   "metadata": {},
   "outputs": [],
   "source": [
    "elev_arr = elev.read(1)\n",
    "print(elev_arr)"
   ]
  },
  {
   "attachments": {},
   "cell_type": "markdown",
   "metadata": {},
   "source": [
    "Once the raster data are written to memory as a NumPy array, they can be mapped or visualized with matplotlib using the *imshow()* method that was demonstrated in the prior data visualization module."
   ]
  },
  {
   "cell_type": "code",
   "execution_count": null,
   "metadata": {},
   "outputs": [],
   "source": [
    "plt.rcParams['figure.figsize'] = [10, 8]\n",
    "plt.imshow(elev_arr, cmap=\"gist_gray\")"
   ]
  }
 ],
 "metadata": {
  "kernelspec": {
   "display_name": "py4sa",
   "language": "python",
   "name": "python3"
  },
  "language_info": {
   "codemirror_mode": {
    "name": "ipython",
    "version": 3
   },
   "file_extension": ".py",
   "mimetype": "text/x-python",
   "name": "python",
   "nbconvert_exporter": "python",
   "pygments_lexer": "ipython3",
   "version": "3.10.9"
  },
  "vscode": {
   "interpreter": {
    "hash": "a62a218f45948969006c944db2ca1c519af623da5e08f864ae6aafcacb945df1"
   }
  }
 },
 "nbformat": 4,
 "nbformat_minor": 4
}
