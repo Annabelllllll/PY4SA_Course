{
 "cells": [
  {
   "attachments": {},
   "cell_type": "markdown",
   "metadata": {},
   "source": [
    "# Python for Spatial Analysis\n",
    "## Second part of the module of GG3209 Spatial Analysis with GIS.\n",
    "### Demos - Lecture No 1\n",
    "\n",
    "---\n",
    "Dr Fernando Benitez -  University of St Andrews - School of Geography and Sustainable Development - First Iteration 2023 v.1.0 "
   ]
  },
  {
   "attachments": {},
   "cell_type": "markdown",
   "metadata": {},
   "source": [
    "### Demo 1.\n",
    "\n",
    "The first demo is about using the terminal to run the most simple demo of python, illustrate students how to install the building components for this part of the course and show them what is like to work in a terminal.\n",
    "\n",
    "Some students might not be proficient in the use of components like terminal, path folders, and other other skills required in programming so this demo aim to show how to install the software component, show the terminal, and navigate through folders and then write basic python scripts."
   ]
  },
  {
   "cell_type": "code",
   "execution_count": 1,
   "metadata": {},
   "outputs": [
    {
     "name": "stdout",
     "output_type": "stream",
     "text": [
      "9\n",
      "Hello world\n",
      "my first python script\n"
     ]
    }
   ],
   "source": [
    "a = 5\n",
    "b = 4\n",
    "\n",
    "c = a+b\n",
    "print (c)\n",
    "print (\"Hello world\")\n",
    "print (\"my first python script\")"
   ]
  },
  {
   "attachments": {},
   "cell_type": "markdown",
   "metadata": {},
   "source": [
    "## Demo 2.\n",
    "\n",
    "More interesting code/script\n"
   ]
  },
  {
   "cell_type": "code",
   "execution_count": 1,
   "metadata": {},
   "outputs": [
    {
     "name": "stdout",
     "output_type": "stream",
     "text": [
      "My shopping List is:  ['Milk', 'Bread', 'Onion']\n"
     ]
    }
   ],
   "source": [
    "shopping_list = []\n",
    "\n",
    "list_length = 3\n",
    "\n",
    "for idx in range(list_length):\n",
    "    item = input('Enter item to buy: ')\n",
    "    shopping_list.append(item)\n",
    "\n",
    "print(\"My shopping List is: \", shopping_list)  \n"
   ]
  },
  {
   "cell_type": "code",
   "execution_count": null,
   "metadata": {},
   "outputs": [],
   "source": []
  }
 ],
 "metadata": {
  "kernelspec": {
   "display_name": "base",
   "language": "python",
   "name": "python3"
  },
  "language_info": {
   "codemirror_mode": {
    "name": "ipython",
    "version": 3
   },
   "file_extension": ".py",
   "mimetype": "text/x-python",
   "name": "python",
   "nbconvert_exporter": "python",
   "pygments_lexer": "ipython3",
   "version": "3.10.9"
  },
  "orig_nbformat": 4,
  "vscode": {
   "interpreter": {
    "hash": "3f407111c129f019f2340fe5f9de2048ab167daf9d5431fe44f2b7f9a5a6e947"
   }
  }
 },
 "nbformat": 4,
 "nbformat_minor": 2
}
