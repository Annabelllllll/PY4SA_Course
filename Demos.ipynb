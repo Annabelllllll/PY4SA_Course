{
 "cells": [
  {
   "attachments": {},
   "cell_type": "markdown",
   "metadata": {},
   "source": [
    "# Python for Spatial Analysis\n",
    "## Second part of the module of GG3209 Spatial Analysis with GIS.\n",
    "### Demos - Lecture No 1\n",
    "\n",
    "---\n",
    "Dr Fernando Benitez -  University of St Andrews - School of Geography and Sustainable Development - First Iteration 2023 v.1.0 "
   ]
  },
  {
   "attachments": {},
   "cell_type": "markdown",
   "metadata": {},
   "source": [
    "### Demo 1.\n",
    "\n",
    "The first demo is about using the terminal to run the most simple demo of python, illustrate students how to install the builing components for this part of the course and show them what is like to work in a terminal.\n",
    "\n",
    "Some students might not be proficient in the use of components like terminal, path folders, and other basics skills before programming so this demo stands to "
   ]
  }
 ],
 "metadata": {
  "kernelspec": {
   "display_name": "base",
   "language": "python",
   "name": "python3"
  },
  "language_info": {
   "name": "python",
   "version": "3.9.16"
  },
  "orig_nbformat": 4,
  "vscode": {
   "interpreter": {
    "hash": "cb790d26adefd25b1df2c204a2fba72095097c2a9b0d8e87b4649a8ce32b8fe4"
   }
  }
 },
 "nbformat": 4,
 "nbformat_minor": 2
}
