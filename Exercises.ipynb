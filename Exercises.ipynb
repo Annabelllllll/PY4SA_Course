{
 "cells": [
  {
   "cell_type": "markdown",
   "id": "22251e58-78c4-44bf-b39e-a3e7619120ee",
   "metadata": {},
   "source": [
    "# Python for Spatial Analysis\n",
    "## Second part of the module of GG3209 Spatial Analysis with GIS.\n",
    "### Notebook to learn and practice the python Basics - Exercises\n",
    "\n",
    "---\n",
    "Dr Fernando Benitez -  University of St Andrews - School of Geography and Sustainable Development - First Iteration 2023 v.1.0 "
   ]
  },
  {
   "cell_type": "markdown",
   "id": "09228f4b-6e09-422d-856f-a3d51f99c49a",
   "metadata": {},
   "source": [
    "## 1.1 Create a script that calculates the average of a list of numbers:\n",
    "\n",
    "* In a new cell, create a list of numbers, for example: [80, 90, 95, 87, 82]\n",
    "* Write a function that takes a list of numbers as input, calculates the average, and returns the result.\n",
    "* Call the function with your list of numbers and print the result."
   ]
  },
  {
   "cell_type": "markdown",
   "id": "2605da17-512d-4523-85bd-f971ee8e69be",
   "metadata": {},
   "source": [
    "## 1.3 Create a script that generates a multiplication table:\n",
    "\n",
    "* Write a function that takes an integer as input and generates a multiplication table for that number, from 1 to 10.\n",
    "* Call the function with a few different numbers and print the results.\n",
    "* Optionally, you can use Markdown to format the output as a table."
   ]
  }
 ],
 "metadata": {
  "kernelspec": {
   "display_name": "Python 3 (ipykernel)",
   "language": "python",
   "name": "python3"
  },
  "language_info": {
   "codemirror_mode": {
    "name": "ipython",
    "version": 3
   },
   "file_extension": ".py",
   "mimetype": "text/x-python",
   "name": "python",
   "nbconvert_exporter": "python",
   "pygments_lexer": "ipython3",
   "version": "3.10.9"
  }
 },
 "nbformat": 4,
 "nbformat_minor": 5
}
