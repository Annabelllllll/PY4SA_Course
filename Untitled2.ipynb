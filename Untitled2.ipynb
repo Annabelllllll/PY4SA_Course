{
 "cells": [
  {
   "cell_type": "code",
   "execution_count": 1,
   "id": "3e011fd5-925d-4c8b-8425-f1b27b23f409",
   "metadata": {},
   "outputs": [
    {
     "data": {
      "text/plain": [
       "15"
      ]
     },
     "execution_count": 1,
     "metadata": {},
     "output_type": "execute_result"
    }
   ],
   "source": [
    "10+5"
   ]
  },
  {
   "cell_type": "code",
   "execution_count": 2,
   "id": "409e6f06-ae7b-41ad-8677-ce871f333751",
   "metadata": {},
   "outputs": [
    {
     "data": {
      "text/plain": [
       "10.0"
      ]
     },
     "execution_count": 2,
     "metadata": {},
     "output_type": "execute_result"
    }
   ],
   "source": [
    "100/10"
   ]
  },
  {
   "cell_type": "markdown",
   "id": "e4473f64-0e21-4be1-a37f-c4d67d281b40",
   "metadata": {},
   "source": [
    "# Heading"
   ]
  },
  {
   "cell_type": "markdown",
   "id": "6f88b0bc-8aa5-4f1b-ac46-35ddfbcb849e",
   "metadata": {},
   "source": [
    "## smaller heading"
   ]
  },
  {
   "cell_type": "code",
   "execution_count": 21,
   "id": "7f371477-fc13-4838-a4d4-bb3a715044f0",
   "metadata": {},
   "outputs": [
    {
     "data": {
      "text/plain": [
       "86.8"
      ]
     },
     "execution_count": 21,
     "metadata": {},
     "output_type": "execute_result"
    }
   ],
   "source": [
    "lst1 = [80, 90, 95, 87, 82]\n",
    "sum(lst1)/len(lst1)"
   ]
  },
  {
   "cell_type": "code",
   "execution_count": null,
   "id": "d5c25516-d973-4247-a516-d820788d25c8",
   "metadata": {},
   "outputs": [],
   "source": []
  }
 ],
 "metadata": {
  "kernelspec": {
   "display_name": "Python 3 (ipykernel)",
   "language": "python",
   "name": "python3"
  },
  "language_info": {
   "codemirror_mode": {
    "name": "ipython",
    "version": 3
   },
   "file_extension": ".py",
   "mimetype": "text/x-python",
   "name": "python",
   "nbconvert_exporter": "python",
   "pygments_lexer": "ipython3",
   "version": "3.10.9"
  }
 },
 "nbformat": 4,
 "nbformat_minor": 5
}
